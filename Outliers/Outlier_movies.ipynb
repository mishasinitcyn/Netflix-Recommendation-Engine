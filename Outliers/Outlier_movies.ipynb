{
 "cells": [
  {
   "cell_type": "markdown",
   "metadata": {},
   "source": [
    "# Outlier Detection (Local Outlier Factor - Movies)\n",
    "In this notebook, we compute Local Outlier Factor scores for each movie represented by its popular features to detect outliers. LOF is a \"normalized distance-based approach where the normalization factor corresponds to the average local data density.\" [Data Mining Textbook]\n",
    "\n",
    "Intuitively, we find that movies with unusual feature combinations, namely unusual cast ensembles or surprising individual casting choices for the genre, are given the highest LOF score, thus indicating the highest \"outlier\" rating."
   ]
  },
  {
   "cell_type": "code",
   "execution_count": 18,
   "metadata": {},
   "outputs": [],
   "source": [
    "import os\n",
    "import numpy as np\n",
    "import pandas as pd\n",
    "import pickle\n",
    "import gzip\n",
    "import json\n",
    "\n",
    "import altair as alt\n",
    "import matplotlib.pyplot as plt\n",
    "import seaborn as sns\n",
    "\n",
    "from sklearn.cluster import KMeans, DBSCAN\n",
    "from sklearn.metrics import silhouette_score, calinski_harabasz_score\n",
    "from sklearn.decomposition import PCA\n",
    "from sklearn.neighbors import NearestNeighbors\n",
    "\n",
    "# Enable notebook renderer for Altair\n",
    "alt.renderers.enable('default')\n",
    "\n",
    "DATA_PATH = \"../data\"\n",
    "NETFLIX_FOLDER_PATH = os.path.join(DATA_PATH, \"netflix_prize\")\n",
    "IMDB_FOLDER_PATH = os.path.join(DATA_PATH, \"imdb\")\n",
    "MIN_OCCURRENCES = 20"
   ]
  },
  {
   "cell_type": "markdown",
   "metadata": {},
   "source": [
    "## Load Data"
   ]
  },
  {
   "cell_type": "code",
   "execution_count": 19,
   "metadata": {},
   "outputs": [
    {
     "name": "stdout",
     "output_type": "stream",
     "text": [
      "Number of features: 450\n"
     ]
    }
   ],
   "source": [
    "# Load movie features\n",
    "MOVIE_FEATURES_PATH = os.path.join(DATA_PATH, f\"processed/movie_features_{MIN_OCCURRENCES}.pickle\")\n",
    "with open(MOVIE_FEATURES_PATH, \"rb\") as f:\n",
    "    movie_features = pickle.load(f)\n",
    "\n",
    "# Load feature mapping\n",
    "FEATURE_MAPPING_PATH = os.path.join(DATA_PATH, f\"processed/feature_mapping_{MIN_OCCURRENCES}.pickle\")\n",
    "with open(FEATURE_MAPPING_PATH, \"rb\") as f:\n",
    "    feature_mapping = pickle.load(f)\n",
    "\n",
    "feature_to_id = feature_mapping['feature_to_id']\n",
    "id_to_feature = feature_mapping['id_to_feature']\n",
    "\n",
    "# Number of features\n",
    "num_features = len(feature_to_id)\n",
    "print(f\"Number of features: {num_features}\")"
   ]
  },
  {
   "cell_type": "markdown",
   "metadata": {},
   "source": [
    "### Create Movie Feature Matrix"
   ]
  },
  {
   "cell_type": "code",
   "execution_count": 20,
   "metadata": {},
   "outputs": [
    {
     "name": "stdout",
     "output_type": "stream",
     "text": [
      "Movie feature matrix shape: (9443, 450)\n"
     ]
    }
   ],
   "source": [
    "# List of movie IDs and feature IDs\n",
    "movie_ids = list(movie_features.keys())\n",
    "feature_ids = list(id_to_feature.keys())\n",
    "\n",
    "# Create an empty DataFrame\n",
    "movie_feature_matrix = pd.DataFrame(0, index=movie_ids, columns=feature_ids)\n",
    "\n",
    "# Fill the DataFrame\n",
    "for movie_id, features in movie_features.items():\n",
    "    movie_feature_matrix.loc[movie_id, features] = 1\n",
    "\n",
    "print(f\"Movie feature matrix shape: {movie_feature_matrix.shape}\")"
   ]
  },
  {
   "cell_type": "code",
   "execution_count": 21,
   "metadata": {},
   "outputs": [],
   "source": [
    "# Load Netflix to IMDb mapping\n",
    "NETFLIX_TO_IMDB_PATH = os.path.join(DATA_PATH, \"netflix_to_imdb.json\")\n",
    "with open(NETFLIX_TO_IMDB_PATH, \"r\") as f:\n",
    "    netflix_to_imdb = json.load(f)\n",
    "\n",
    "# Create a mapping from Netflix movie IDs to IMDb IDs\n",
    "netflix_ids = set(movie_ids)\n",
    "netflix_to_imdb_filtered = {nid: imdb_id for nid, imdb_id in netflix_to_imdb.items() if nid in netflix_ids}"
   ]
  },
  {
   "cell_type": "code",
   "execution_count": 22,
   "metadata": {},
   "outputs": [
    {
     "name": "stdout",
     "output_type": "stream",
     "text": [
      "Loaded 11230548 IMDb titles.\n"
     ]
    }
   ],
   "source": [
    "# Load IMDb title.basics.tsv.gz\n",
    "TITLE_BASICS_PATH = os.path.join(IMDB_FOLDER_PATH, \"title.basics.tsv.gz\")\n",
    "\n",
    "imdb_titles = {}\n",
    "\n",
    "with gzip.open(TITLE_BASICS_PATH, 'rt', encoding='utf-8') as f:\n",
    "    # Skip header\n",
    "    next(f)\n",
    "    for line in f:\n",
    "        parts = line.strip().split('\\t')\n",
    "        if len(parts) != 9:\n",
    "            continue\n",
    "        tconst, titleType, primaryTitle, originalTitle, isAdult, startYear, endYear, runtimeMinutes, genres = parts\n",
    "        imdb_titles[tconst] = primaryTitle\n",
    "\n",
    "print(f\"Loaded {len(imdb_titles)} IMDb titles.\")"
   ]
  },
  {
   "cell_type": "code",
   "execution_count": 23,
   "metadata": {},
   "outputs": [],
   "source": [
    "# Map Netflix movie IDs to titles\n",
    "movie_titles = {}\n",
    "\n",
    "for netflix_id in movie_ids:\n",
    "    imdb_id = netflix_to_imdb_filtered.get(netflix_id)\n",
    "    if imdb_id and imdb_id in imdb_titles:\n",
    "        movie_titles[netflix_id] = imdb_titles[imdb_id]\n",
    "    else:\n",
    "        movie_titles[netflix_id] = f\"Unknown Title ({netflix_id})\"\n",
    "\n",
    "# Add movie titles to the DataFrame\n",
    "movie_feature_matrix['title'] = movie_feature_matrix.index.map(movie_titles)"
   ]
  },
  {
   "cell_type": "code",
   "execution_count": 24,
   "metadata": {},
   "outputs": [],
   "source": [
    "# Create a list of feature names for each movie\n",
    "def get_feature_names(feature_ids):\n",
    "    return [id_to_feature[feat_id] for feat_id in feature_ids]\n",
    "\n",
    "movie_feature_matrix['features'] = movie_feature_matrix.index.map(\n",
    "    lambda x: ', '.join(get_feature_names(movie_features.get(x, [])))\n",
    ")"
   ]
  },
  {
   "cell_type": "markdown",
   "metadata": {},
   "source": [
    "# Local Outlier Factor"
   ]
  },
  {
   "cell_type": "code",
   "execution_count": 25,
   "metadata": {},
   "outputs": [
    {
     "name": "stdout",
     "output_type": "stream",
     "text": [
      "                       title  \\\n",
      "8782    The Royal Tenenbaums   \n",
      "10078      Indecent Proposal   \n",
      "2499   America's Sweethearts   \n",
      "4171           Mars Attacks!   \n",
      "3859        The Marrying Man   \n",
      "14355              Bowfinger   \n",
      "10131              Diggstown   \n",
      "13813          Nobody's Fool   \n",
      "11724              The Paper   \n",
      "16802         The Grass Harp   \n",
      "\n",
      "                                                features     LOF_Score  \n",
      "8782   Cast:Anjelica Huston, Cast:Ben Stiller, Cast:B... -2.542708e+10  \n",
      "10078  Cast:Billy Bob Thornton, Cast:Demi Moore, Cast... -2.449490e+10  \n",
      "2499   Cast:Alan Arkin, Cast:Christopher Walken, Cast... -2.449490e+10  \n",
      "4171   Cast:Danny DeVito, Cast:Glenn Close, Cast:Jack... -2.396399e+10  \n",
      "3859   Cast:Alec Baldwin, Cast:Elisabeth Shue, Cast:K... -2.381176e+10  \n",
      "14355  Cast:Eddie Murphy, Cast:Heather Graham, Cast:R... -2.372344e+10  \n",
      "10131  Cast:Bruce Dern, Cast:Heather Graham, Cast:Jam... -2.327015e+10  \n",
      "13813  Cast:Bruce Willis, Cast:Melanie Griffith, Cast... -2.327015e+10  \n",
      "11724  Cast:Glenn Close, Cast:Jason Robards, Cast:Mic... -2.327015e+10  \n",
      "16802  Cast:Charles Durning, Cast:Jack Lemmon, Cast:M... -2.327015e+10  \n"
     ]
    }
   ],
   "source": [
    "from sklearn.neighbors import LocalOutlierFactor\n",
    "\n",
    "# Drop the 'title' and 'features' columns to focus on numeric data\n",
    "feature_data = movie_feature_matrix.drop(columns=['title', 'features'])\n",
    "feature_data_scaled = feature_data\n",
    "\n",
    "# Initialize the Local Outlier Factor (LOF) model\n",
    "# Setting n_neighbors to a reasonable value (e.g., 20 or 5% of the dataset)\n",
    "lof = LocalOutlierFactor(n_neighbors=20, contamination=0.05)  # 5% outliers\n",
    "\n",
    "# Fit the model and predict outlier scores\n",
    "lof_scores = -lof.fit_predict(feature_data)\n",
    "# The negative values indicate how strong the outlier effect is (higher means more outlier-like)\n",
    "\n",
    "# Add LOF scores to the original movie feature matrix\n",
    "movie_feature_matrix['LOF_Score'] = lof.negative_outlier_factor_\n",
    "\n",
    "# Sort movies by their LOF score (outliers at the top)\n",
    "outliers = movie_feature_matrix.sort_values(by='LOF_Score', ascending=True)\n",
    "\n",
    "# Display the top potential outliers\n",
    "print(outliers.head(10)[['title', 'features', 'LOF_Score']])"
   ]
  },
  {
   "cell_type": "code",
   "execution_count": 26,
   "metadata": {},
   "outputs": [
    {
     "data": {
      "text/html": [
       "<div>\n",
       "<style scoped>\n",
       "    .dataframe tbody tr th:only-of-type {\n",
       "        vertical-align: middle;\n",
       "    }\n",
       "\n",
       "    .dataframe tbody tr th {\n",
       "        vertical-align: top;\n",
       "    }\n",
       "\n",
       "    .dataframe thead th {\n",
       "        text-align: right;\n",
       "    }\n",
       "</style>\n",
       "<table border=\"1\" class=\"dataframe\">\n",
       "  <thead>\n",
       "    <tr style=\"text-align: right;\">\n",
       "      <th></th>\n",
       "      <th>title</th>\n",
       "      <th>features</th>\n",
       "      <th>LOF_Score</th>\n",
       "    </tr>\n",
       "  </thead>\n",
       "  <tbody>\n",
       "    <tr>\n",
       "      <th>8782</th>\n",
       "      <td>The Royal Tenenbaums</td>\n",
       "      <td>Cast:Anjelica Huston, Cast:Ben Stiller, Cast:B...</td>\n",
       "      <td>-2.542708e+10</td>\n",
       "    </tr>\n",
       "    <tr>\n",
       "      <th>10078</th>\n",
       "      <td>Indecent Proposal</td>\n",
       "      <td>Cast:Billy Bob Thornton, Cast:Demi Moore, Cast...</td>\n",
       "      <td>-2.449490e+10</td>\n",
       "    </tr>\n",
       "    <tr>\n",
       "      <th>2499</th>\n",
       "      <td>America's Sweethearts</td>\n",
       "      <td>Cast:Alan Arkin, Cast:Christopher Walken, Cast...</td>\n",
       "      <td>-2.449490e+10</td>\n",
       "    </tr>\n",
       "    <tr>\n",
       "      <th>4171</th>\n",
       "      <td>Mars Attacks!</td>\n",
       "      <td>Cast:Danny DeVito, Cast:Glenn Close, Cast:Jack...</td>\n",
       "      <td>-2.396399e+10</td>\n",
       "    </tr>\n",
       "    <tr>\n",
       "      <th>3859</th>\n",
       "      <td>The Marrying Man</td>\n",
       "      <td>Cast:Alec Baldwin, Cast:Elisabeth Shue, Cast:K...</td>\n",
       "      <td>-2.381176e+10</td>\n",
       "    </tr>\n",
       "    <tr>\n",
       "      <th>14355</th>\n",
       "      <td>Bowfinger</td>\n",
       "      <td>Cast:Eddie Murphy, Cast:Heather Graham, Cast:R...</td>\n",
       "      <td>-2.372344e+10</td>\n",
       "    </tr>\n",
       "    <tr>\n",
       "      <th>10131</th>\n",
       "      <td>Diggstown</td>\n",
       "      <td>Cast:Bruce Dern, Cast:Heather Graham, Cast:Jam...</td>\n",
       "      <td>-2.327015e+10</td>\n",
       "    </tr>\n",
       "    <tr>\n",
       "      <th>13813</th>\n",
       "      <td>Nobody's Fool</td>\n",
       "      <td>Cast:Bruce Willis, Cast:Melanie Griffith, Cast...</td>\n",
       "      <td>-2.327015e+10</td>\n",
       "    </tr>\n",
       "    <tr>\n",
       "      <th>11724</th>\n",
       "      <td>The Paper</td>\n",
       "      <td>Cast:Glenn Close, Cast:Jason Robards, Cast:Mic...</td>\n",
       "      <td>-2.327015e+10</td>\n",
       "    </tr>\n",
       "    <tr>\n",
       "      <th>16802</th>\n",
       "      <td>The Grass Harp</td>\n",
       "      <td>Cast:Charles Durning, Cast:Jack Lemmon, Cast:M...</td>\n",
       "      <td>-2.327015e+10</td>\n",
       "    </tr>\n",
       "  </tbody>\n",
       "</table>\n",
       "</div>"
      ],
      "text/plain": [
       "                       title  \\\n",
       "8782    The Royal Tenenbaums   \n",
       "10078      Indecent Proposal   \n",
       "2499   America's Sweethearts   \n",
       "4171           Mars Attacks!   \n",
       "3859        The Marrying Man   \n",
       "14355              Bowfinger   \n",
       "10131              Diggstown   \n",
       "13813          Nobody's Fool   \n",
       "11724              The Paper   \n",
       "16802         The Grass Harp   \n",
       "\n",
       "                                                features     LOF_Score  \n",
       "8782   Cast:Anjelica Huston, Cast:Ben Stiller, Cast:B... -2.542708e+10  \n",
       "10078  Cast:Billy Bob Thornton, Cast:Demi Moore, Cast... -2.449490e+10  \n",
       "2499   Cast:Alan Arkin, Cast:Christopher Walken, Cast... -2.449490e+10  \n",
       "4171   Cast:Danny DeVito, Cast:Glenn Close, Cast:Jack... -2.396399e+10  \n",
       "3859   Cast:Alec Baldwin, Cast:Elisabeth Shue, Cast:K... -2.381176e+10  \n",
       "14355  Cast:Eddie Murphy, Cast:Heather Graham, Cast:R... -2.372344e+10  \n",
       "10131  Cast:Bruce Dern, Cast:Heather Graham, Cast:Jam... -2.327015e+10  \n",
       "13813  Cast:Bruce Willis, Cast:Melanie Griffith, Cast... -2.327015e+10  \n",
       "11724  Cast:Glenn Close, Cast:Jason Robards, Cast:Mic... -2.327015e+10  \n",
       "16802  Cast:Charles Durning, Cast:Jack Lemmon, Cast:M... -2.327015e+10  "
      ]
     },
     "execution_count": 26,
     "metadata": {},
     "output_type": "execute_result"
    }
   ],
   "source": [
    "outliers.head(10)[['title', 'features', 'LOF_Score']]"
   ]
  },
  {
   "cell_type": "code",
   "execution_count": null,
   "metadata": {},
   "outputs": [],
   "source": []
  }
 ],
 "metadata": {
  "kernelspec": {
   "display_name": "venv",
   "language": "python",
   "name": "python3"
  },
  "language_info": {
   "codemirror_mode": {
    "name": "ipython",
    "version": 3
   },
   "file_extension": ".py",
   "mimetype": "text/x-python",
   "name": "python",
   "nbconvert_exporter": "python",
   "pygments_lexer": "ipython3",
   "version": "3.9.6"
  }
 },
 "nbformat": 4,
 "nbformat_minor": 2
}
