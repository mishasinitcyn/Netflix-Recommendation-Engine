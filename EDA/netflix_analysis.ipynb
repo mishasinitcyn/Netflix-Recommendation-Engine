{
 "cells": [
  {
   "cell_type": "markdown",
   "metadata": {},
   "source": [
    "### Netflix Prize Dataset EDA\n",
    "\n",
    "In this notebook, we will primarily be performing some exploratory data analysis on the Netflix Prize dataset.\n",
    "\n",
    "Our initial questions that we want to explore with this data set:\n",
    "1. What are the most rated movies?\n",
    "2. What are the most POORLY rated movies?\n",
    "3. Who are these “top 10k” users?"
   ]
  },
  {
   "cell_type": "code",
   "execution_count": null,
   "metadata": {},
   "outputs": [],
   "source": [
    "import pandas as pd\n",
    "import numpy as np\n",
    "import matplotlib.pyplot as plt\n",
    "import seaborn as sns\n",
    "from collections import Counter\n",
    "from datetime import datetime\n",
    "\n",
    "plt.style.use('seaborn')\n",
    "sns.set_palette(\"husl\")"
   ]
  },
  {
   "cell_type": "code",
   "execution_count": null,
   "metadata": {},
   "outputs": [],
   "source": [
    "\n",
    "\n",
    "# Load the data\n",
    "def load_data(ratings_file, movies_file):\n",
    "    \"\"\"\n",
    "    Load and prepare Netflix Prize dataset\n",
    "    ratings_file: path to ratings.csv\n",
    "    movies_file: path to movie_titles.csv\n",
    "    \"\"\"\n",
    "    # Load ratings data\n",
    "    # Format: MovieID,UserID,Rating,Date\n",
    "    ratings_df = pd.read_csv(ratings_file, names=['MovieID', 'UserID', 'Rating', 'Date'])\n",
    "    \n",
    "    # Load movie titles data\n",
    "    # Format: MovieID,Year,Title\n",
    "    movies_df = pd.read_csv(movies_file, names=['MovieID', 'Year', 'Title'], encoding='latin-1')\n",
    "    \n",
    "    return ratings_df, movies_df\n"
   ]
  }
 ],
 "metadata": {
  "language_info": {
   "name": "python"
  }
 },
 "nbformat": 4,
 "nbformat_minor": 2
}
