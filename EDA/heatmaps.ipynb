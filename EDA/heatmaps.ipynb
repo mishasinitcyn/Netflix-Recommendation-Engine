{
 "cells": [
  {
   "cell_type": "markdown",
   "metadata": {},
   "source": [
    "# EDA: Heatmaps\n",
    "In this notebook, we use heatmaps to analyze correlations between features. \n",
    "\n",
    "**User Preference Features**<br>\n",
    "Intuitively, we interpret inter-feature preference correlations as \"users who like feature x are also likely to enjoy feature y.\"\n",
    "- Strong preference correlation between genres like Sci-Fi, Thriller, and Action\n",
    "- Composers have the strongest human feature correlations, especially Jerry Goldsmith and Action/Thriller movies. Similarly, composers James Newton Howard and John Williams.\n",
    "- Robert DeNiro has the strongest preference correlation with >120-minute movies, Drama and Thriller.\n",
    "- Danny DeVito has the strongest preference correlation 90-120-minute movies\n",
    "\n",
    "**Movie Features** <br>\n",
    "Similarly, we interpret inter-feature correlations as \"movies with feature x are also likely to contain feature y\"\n",
    "- Naturally, the strongest correlations are between runtime, genre, and release decade. Therefore, we analyze the correlations without these features\n",
    "- We find strong correlations between famous producer-composer-actor collaborations such as John Wayne and Elmer Bernstein"
   ]
  },
  {
   "cell_type": "code",
   "execution_count": 1,
   "metadata": {},
   "outputs": [],
   "source": [
    "import os\n",
    "import pickle\n",
    "import pandas as pd\n",
    "import numpy as np\n",
    "import seaborn as sns\n",
    "import matplotlib.pyplot as plt\n",
    "\n",
    "DATA_PATH = \"../data\"\n",
    "MIN_OCCURRENCES = 20"
   ]
  },
  {
   "cell_type": "markdown",
   "metadata": {},
   "source": [
    "## Load Data"
   ]
  },
  {
   "cell_type": "code",
   "execution_count": 2,
   "metadata": {},
   "outputs": [],
   "source": [
    "# Load feature mapping\n",
    "feature_mapping_path = os.path.join(DATA_PATH, f\"processed/feature_mapping_{MIN_OCCURRENCES}.pickle\")\n",
    "with open(feature_mapping_path, 'rb') as f:\n",
    "    feature_mapping = pickle.load(f)\n",
    "\n",
    "feature_to_id = feature_mapping['feature_to_id']\n",
    "id_to_feature = feature_mapping['id_to_feature']\n",
    "\n",
    "# Load user profiles\n",
    "user_profiles_path = os.path.join(DATA_PATH, f\"processed/user_profiles_{MIN_OCCURRENCES}.pickle\")\n",
    "with open(user_profiles_path, 'rb') as f:\n",
    "    user_profiles = pickle.load(f)"
   ]
  },
  {
   "cell_type": "markdown",
   "metadata": {},
   "source": [
    "## Utils"
   ]
  },
  {
   "cell_type": "code",
   "execution_count": 3,
   "metadata": {},
   "outputs": [],
   "source": [
    "def get_redundant_pairs(df):\n",
    "    '''Get diagonal and lower triangular pairs of correlation matrix'''\n",
    "    pairs_to_drop = set()\n",
    "    cols = df.columns\n",
    "    for i in range(df.shape[0]):\n",
    "        for j in range(i+1):\n",
    "            pairs_to_drop.add((cols[i], cols[j]))\n",
    "    return pairs_to_drop\n",
    "\n",
    "def get_top_correlations(corr_matrix, n=5):\n",
    "    '''Get top n pairs with highest correlations'''\n",
    "    au_corr = corr_matrix.unstack()\n",
    "    labels_to_drop = get_redundant_pairs(corr_matrix)\n",
    "    au_corr = au_corr.drop(labels=labels_to_drop)\n",
    "    sorted_corr = au_corr.sort_values(ascending=False)\n",
    "    return sorted_corr[0:n]\n",
    "\n",
    "def get_bottom_correlations(corr_matrix, n=5):\n",
    "    '''Get top n pairs with lowest correlations'''\n",
    "    au_corr = corr_matrix.unstack()\n",
    "    labels_to_drop = get_redundant_pairs(corr_matrix)\n",
    "    au_corr = au_corr.drop(labels=labels_to_drop)\n",
    "    sorted_corr = au_corr.sort_values()\n",
    "    return sorted_corr[0:n]\n",
    "\n",
    "def plot_heatmap(corr_matrix, title):\n",
    "    '''Plot a heatmap of the correlation matrix'''\n",
    "    plt.figure(figsize=(12, 10))\n",
    "    sns.heatmap(corr_matrix, annot=True, cmap='coolwarm', vmin=-1, vmax=1)\n",
    "    plt.title(title)\n",
    "    plt.show()\n",
    "\n",
    "def print_top_correlations(corr_matrix, n=20, exclude_negative=False, description=''):\n",
    "    '''Print top positive and negative correlations'''\n",
    "    top_corrs = get_top_correlations(corr_matrix, n)\n",
    "    bottom_corrs = get_bottom_correlations(corr_matrix, n)\n",
    "\n",
    "    print(f\"\\nTop {n} strongest positive correlations {description}:\")\n",
    "    for (feature1, feature2), corr_value in top_corrs.items():\n",
    "        if exclude_negative and corr_value <= 0:\n",
    "            continue\n",
    "        print(f\"{feature1} & {feature2}: Correlation = {corr_value:.2f}\")\n",
    "\n",
    "    print(f\"\\nTop {n} strongest negative correlations {description}:\")\n",
    "    for (feature1, feature2), corr_value in bottom_corrs.items():\n",
    "        if exclude_negative and corr_value >= 0:\n",
    "            continue\n",
    "        print(f\"{feature1} & {feature2}: Correlation = {corr_value:.2f}\")"
   ]
  },
  {
   "cell_type": "markdown",
   "metadata": {},
   "source": [
    "# User Preference Feature Correlations"
   ]
  },
  {
   "cell_type": "code",
   "execution_count": 4,
   "metadata": {},
   "outputs": [],
   "source": [
    "# Build DataFrame of user feature preferences\n",
    "rows = []\n",
    "for user_id, profile in user_profiles.items():\n",
    "    prefs = profile['feature_preferences']\n",
    "    row = {'user_id': user_id}\n",
    "    for feature_id, ratio in prefs.items():\n",
    "        if ratio >= 0:\n",
    "            row[feature_id] = ratio\n",
    "    rows.append(row)\n",
    "\n",
    "user_data = pd.DataFrame(rows).set_index('user_id')"
   ]
  },
  {
   "cell_type": "code",
   "execution_count": null,
   "metadata": {},
   "outputs": [],
   "source": [
    "k = 20  # Number of features to select\n",
    "feature_counts = user_data.count()\n",
    "top_features = feature_counts.sort_values(ascending=False).head(k).index\n",
    "filtered_data = user_data[top_features]\n",
    "corr_matrix = filtered_data.corr()\n",
    "\n",
    "# Map feature IDs to names\n",
    "feature_names = [id_to_feature[feature_id] for feature_id in top_features]\n",
    "corr_matrix.index = feature_names\n",
    "corr_matrix.columns = feature_names\n",
    "\n",
    "plot_heatmap(corr_matrix, 'Correlations Among Most Popular Features')"
   ]
  },
  {
   "cell_type": "markdown",
   "metadata": {},
   "source": [
    "# User Feature Preference Correlations"
   ]
  },
  {
   "cell_type": "code",
   "execution_count": null,
   "metadata": {},
   "outputs": [],
   "source": [
    "# Compute the full correlation matrix\n",
    "full_corr_matrix = user_data.corr()\n",
    "\n",
    "# Get top N strongest correlations by absolute value\n",
    "N = 20\n",
    "au_corr = full_corr_matrix.unstack()\n",
    "labels_to_drop = get_redundant_pairs(full_corr_matrix)\n",
    "au_corr = au_corr.drop(labels=labels_to_drop)\n",
    "strongest_pairs = au_corr.abs().sort_values(ascending=False).head(N)\n",
    "\n",
    "# Extract unique feature IDs from the strongest pairs\n",
    "feature_ids = set()\n",
    "for (feature1, feature2) in strongest_pairs.index:\n",
    "    feature_ids.update([feature1, feature2])\n",
    "\n",
    "filtered_data = user_data[list(feature_ids)]\n",
    "corr_matrix = filtered_data.corr()\n",
    "\n",
    "# Map feature IDs to names\n",
    "feature_names = [id_to_feature[feature_id] for feature_id in corr_matrix.columns]\n",
    "corr_matrix.index = feature_names\n",
    "corr_matrix.columns = feature_names\n",
    "\n",
    "plot_heatmap(corr_matrix, 'Heatmap of Strongest Feature Preference Correlations')"
   ]
  },
  {
   "cell_type": "markdown",
   "metadata": {},
   "source": [
    "# Movie Feature Correlations "
   ]
  },
  {
   "cell_type": "code",
   "execution_count": 7,
   "metadata": {},
   "outputs": [],
   "source": [
    "movie_features_path = os.path.join(DATA_PATH, f\"processed/movie_features_{MIN_OCCURRENCES}.pickle\")\n",
    "with open(movie_features_path, 'rb') as f:\n",
    "    movie_features = pickle.load(f)\n",
    "\n",
    "# Build the movie-feature matrix\n",
    "data = []\n",
    "movie_ids = []\n",
    "for movie_id, feature_ids in movie_features.items():\n",
    "    movie_ids.append(movie_id)\n",
    "    feature_presence = {fid: 1 for fid in feature_ids}\n",
    "    data.append(feature_presence)\n",
    "\n",
    "movie_data = pd.DataFrame.from_records(data, index=movie_ids)\n",
    "movie_data = movie_data.fillna(0).astype(int)"
   ]
  },
  {
   "cell_type": "code",
   "execution_count": null,
   "metadata": {},
   "outputs": [],
   "source": [
    "k = 20\n",
    "feature_counts = movie_data.sum()\n",
    "top_features = feature_counts.sort_values(ascending=False).head(k).index\n",
    "df_top = movie_data[top_features]\n",
    "corr_matrix = df_top.corr()\n",
    "\n",
    "# Map feature IDs to names\n",
    "feature_names = [id_to_feature[feature_id] for feature_id in top_features]\n",
    "corr_matrix.index = feature_names\n",
    "corr_matrix.columns = feature_names\n",
    "\n",
    "# Plot heatmap\n",
    "plot_heatmap(corr_matrix, 'Correlations among Movie Features')\n",
    "\n",
    "# Print top correlations\n",
    "print_top_correlations(corr_matrix, n=k)"
   ]
  },
  {
   "cell_type": "markdown",
   "metadata": {},
   "source": [
    "## Without Genre, Decade, or Runtime"
   ]
  },
  {
   "cell_type": "code",
   "execution_count": null,
   "metadata": {},
   "outputs": [],
   "source": [
    "# Exclude genre,decade,runtime\n",
    "excluded_feature_ids = []\n",
    "for feature_id, feature_name in id_to_feature.items():\n",
    "    if feature_name.startswith(('Runtime', 'Genre', 'Decade')):\n",
    "        excluded_feature_ids.append(feature_id)\n",
    "\n",
    "movie_data_filtered = movie_data.drop(columns=excluded_feature_ids, errors='ignore')\n",
    "\n",
    "# Recompute feature frequencies and select top features\n",
    "feature_counts = movie_data_filtered.sum()\n",
    "k = 15\n",
    "top_features = feature_counts.sort_values(ascending=False).head(k).index\n",
    "df_top = movie_data_filtered[top_features]\n",
    "corr_matrix = df_top.corr()\n",
    "\n",
    "# Map feature IDs to names\n",
    "feature_names = [id_to_feature[feature_id] for feature_id in top_features]\n",
    "corr_matrix.index = feature_names\n",
    "corr_matrix.columns = feature_names\n",
    "\n",
    "plot_heatmap(corr_matrix, 'Correlations among Movie Features (Excluding Runtime, Genre, Decade)')\n",
    "print_top_correlations(corr_matrix, n=20, description='(excluding Runtime, Genre, Decade)')"
   ]
  },
  {
   "cell_type": "code",
   "execution_count": null,
   "metadata": {},
   "outputs": [],
   "source": []
  }
 ],
 "metadata": {
  "kernelspec": {
   "display_name": "venv",
   "language": "python",
   "name": "python3"
  },
  "language_info": {
   "codemirror_mode": {
    "name": "ipython",
    "version": 3
   },
   "file_extension": ".py",
   "mimetype": "text/x-python",
   "name": "python",
   "nbconvert_exporter": "python",
   "pygments_lexer": "ipython3",
   "version": "3.9.6"
  }
 },
 "nbformat": 4,
 "nbformat_minor": 2
}
