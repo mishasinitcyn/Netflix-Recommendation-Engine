{
 "cells": [
  {
   "cell_type": "code",
   "execution_count": 26,
   "metadata": {},
   "outputs": [],
   "source": [
    "import os\n",
    "import json\n",
    "from collections import defaultdict\n",
    "import heapq\n",
    "\n",
    "DATA_PATH = \"../data\"\n",
    "NETFLIX_FOLDER_PATH = os.path.join(DATA_PATH, \"netflix_prize\")\n",
    "IMDB_FOLDER_PATH = os.path.join(DATA_PATH, \"imdb\")"
   ]
  },
  {
   "cell_type": "code",
   "execution_count": 27,
   "metadata": {},
   "outputs": [],
   "source": [
    "def process_rating_file(filepath, netflix_movies):\n",
    "    \"\"\"Process a single rating file and return user rating counts.\"\"\"\n",
    "    user_ratings = defaultdict(int)\n",
    "    current_user = None\n",
    "    \n",
    "    with open(filepath, 'r') as f:\n",
    "        for line in f:\n",
    "            line = line.strip()\n",
    "            if line.endswith(':'):\n",
    "                current_user = int(line[:-1])\n",
    "            else:\n",
    "                if current_user is not None:\n",
    "                    movie_id = line.split(',')[0]\n",
    "                    if movie_id in netflix_movies:\n",
    "                        user_ratings[current_user] += 1\n",
    "    \n",
    "    return user_ratings"
   ]
  },
  {
   "cell_type": "code",
   "execution_count": null,
   "metadata": {},
   "outputs": [],
   "source": [
    "top_n = 10000\n",
    "\n",
    "# Load Netflix to IMDB mapping\n",
    "with open(os.path.join(DATA_PATH, 'netflix_to_imdb.json'), 'r') as f: netflix_to_imdb = json.load(f)\n",
    "netflix_movies = set(netflix_to_imdb.keys())\n",
    "\n",
    "print(\"Processing rating files...\")\n",
    "all_user_ratings = defaultdict(int)\n",
    "\n",
    "# Process each rating file\n",
    "for filename in sorted(os.listdir(os.path.join(NETFLIX_FOLDER_PATH, \"training_set\"))):\n",
    "    if filename.startswith('mv_'):\n",
    "        filepath = os.path.join(os.path.join(NETFLIX_FOLDER_PATH, \"training_set\"), filename)\n",
    "        file_user_ratings = process_rating_file(filepath, netflix_movies)\n",
    "        \n",
    "        # Merge ratings\n",
    "        for user, count in file_user_ratings.items():\n",
    "            all_user_ratings[user] += count\n",
    "\n",
    "# Get top N users\n",
    "print(f\"Finding top {top_n} users...\")\n",
    "top_users = dict(heapq.nlargest(top_n, all_user_ratings.items(), key=lambda x: x[1]))\n",
    "\n",
    "# Save results\n",
    "output_path = os.path.join(DATA_PATH, 'top_netflix_users.json')\n",
    "print(f\"Saving results to {output_path}...\")\n",
    "with open(output_path, 'w') as f:\n",
    "    json.dump(top_users, f)\n",
    "\n",
    "print(\"Complete!\")"
   ]
  }
 ],
 "metadata": {
  "kernelspec": {
   "display_name": "venv",
   "language": "python",
   "name": "python3"
  },
  "language_info": {
   "codemirror_mode": {
    "name": "ipython",
    "version": 3
   },
   "file_extension": ".py",
   "mimetype": "text/x-python",
   "name": "python",
   "nbconvert_exporter": "python",
   "pygments_lexer": "ipython3",
   "version": "3.9.6"
  }
 },
 "nbformat": 4,
 "nbformat_minor": 2
}
