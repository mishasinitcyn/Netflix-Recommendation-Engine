{
 "cells": [
  {
   "cell_type": "markdown",
   "metadata": {},
   "source": [
    "# User Features\n",
    "In this notebook, we select the top 10k users `top_netflix_users.json` with the highest number of movie ratings and create user-specific features `user_profiles_{n}.pickle` as high/low ratios (on a scale of 0 to 1) for each movie feature base on their ratings.\n",
    "\n",
    "Naturally, not all users have rated movies pertaining to the entire set of movie features. Such missing feature preference values are imputed as -1 for geometric interpretability in downstream tasks.\n",
    "\n",
    "**Note**: The resulting `user_profiles_{n}.pickle` file is too large for Github. To produce the file, please run this notebook as is."
   ]
  },
  {
   "cell_type": "code",
   "execution_count": 2,
   "metadata": {},
   "outputs": [],
   "source": [
    "import os\n",
    "import json\n",
    "import pickle\n",
    "from collections import defaultdict\n",
    "import pandas as pd\n",
    "import seaborn as sns\n",
    "import matplotlib.pyplot as plt\n",
    "\n",
    "# Constants\n",
    "DATA_PATH = \"../data\"\n",
    "OUTPUT_PATH = os.join(DATA_PATH, 'processed')\n",
    "NETFLIX_FOLDER_PATH = os.path.join(DATA_PATH, \"netflix_prize\")\n",
    "IMDB_FOLDER_PATH = os.path.join(DATA_PATH, \"imdb\")\n",
    "MIN_OCCURRENCES = 20\n"
   ]
  },
  {
   "cell_type": "markdown",
   "metadata": {},
   "source": [
    "## Get Top 10k Users"
   ]
  },
  {
   "cell_type": "markdown",
   "metadata": {},
   "source": [
    "### Load Data"
   ]
  },
  {
   "cell_type": "code",
   "execution_count": null,
   "metadata": {},
   "outputs": [],
   "source": [
    "# Load Netflix to IMDb mapping\n",
    "with open(os.path.join(DATA_PATH, 'netflix_to_imdb.json'), 'r') as f:\n",
    "    netflix_to_imdb = json.load(f)\n",
    "\n",
    "# Convert Netflix movie IDs to a set of integers for faster lookup\n",
    "netflix_movie_ids_with_imdb = set(int(k) for k in netflix_to_imdb.keys())\n",
    "\n",
    "# Path to the training set\n",
    "training_set_path = os.path.join(NETFLIX_FOLDER_PATH, 'training_set')\n",
    "files = os.listdir(training_set_path)"
   ]
  },
  {
   "cell_type": "markdown",
   "metadata": {},
   "source": [
    "### Count User Ratings For Each Movie"
   ]
  },
  {
   "cell_type": "code",
   "execution_count": null,
   "metadata": {},
   "outputs": [
    {
     "name": "stdout",
     "output_type": "stream",
     "text": [
      "Processing rating files...\n"
     ]
    },
    {
     "ename": "TypeError",
     "evalue": "process_rating_file() missing 3 required positional arguments: 'movie_features', 'top_users', and 'user_profiles'",
     "output_type": "error",
     "traceback": [
      "\u001b[0;31m---------------------------------------------------------------------------\u001b[0m",
      "\u001b[0;31mTypeError\u001b[0m                                 Traceback (most recent call last)",
      "Cell \u001b[0;32mIn[6], line 14\u001b[0m\n\u001b[1;32m     12\u001b[0m \u001b[38;5;28;01mif\u001b[39;00m filename\u001b[38;5;241m.\u001b[39mstartswith(\u001b[38;5;124m'\u001b[39m\u001b[38;5;124mmv_\u001b[39m\u001b[38;5;124m'\u001b[39m):\n\u001b[1;32m     13\u001b[0m     filepath \u001b[38;5;241m=\u001b[39m os\u001b[38;5;241m.\u001b[39mpath\u001b[38;5;241m.\u001b[39mjoin(os\u001b[38;5;241m.\u001b[39mpath\u001b[38;5;241m.\u001b[39mjoin(NETFLIX_FOLDER_PATH, \u001b[38;5;124m\"\u001b[39m\u001b[38;5;124mtraining_set\u001b[39m\u001b[38;5;124m\"\u001b[39m), filename)\n\u001b[0;32m---> 14\u001b[0m     file_user_ratings \u001b[38;5;241m=\u001b[39m \u001b[43mprocess_rating_file\u001b[49m\u001b[43m(\u001b[49m\u001b[43mfilepath\u001b[49m\u001b[43m,\u001b[49m\u001b[43m \u001b[49m\u001b[43mnetflix_movies\u001b[49m\u001b[43m)\u001b[49m\n\u001b[1;32m     16\u001b[0m     \u001b[38;5;66;03m# Merge ratings\u001b[39;00m\n\u001b[1;32m     17\u001b[0m     \u001b[38;5;28;01mfor\u001b[39;00m user, count \u001b[38;5;129;01min\u001b[39;00m file_user_ratings\u001b[38;5;241m.\u001b[39mitems():\n",
      "\u001b[0;31mTypeError\u001b[0m: process_rating_file() missing 3 required positional arguments: 'movie_features', 'top_users', and 'user_profiles'"
     ]
    }
   ],
   "source": [
    "# Initialize user ratings dictionary\n",
    "user_ratings = defaultdict(lambda: {'total_ratings': 0, 'high_ratings': 0, 'low_ratings': 0})\n",
    "\n",
    "# Process each file in the training set\n",
    "for filename in files:\n",
    "    filepath = os.path.join(training_set_path, filename)\n",
    "    if filename.startswith('mv_') and filename.endswith('.txt'):\n",
    "        movie_id = int(filename[3:-4])  # Extract movie ID as integer\n",
    "        if movie_id in netflix_movie_ids_with_imdb:\n",
    "            with open(filepath, 'r') as f:\n",
    "                lines = f.readlines()\n",
    "                for line in lines[1:]:  # Skip the first line containing the movie ID\n",
    "                    user_id, rating, date = line.strip().split(',')\n",
    "                    rating = int(rating)\n",
    "                    user_ratings[user_id]['total_ratings'] += 1\n",
    "                    if rating >= 4:\n",
    "                        user_ratings[user_id]['high_ratings'] += 1\n",
    "                    else:\n",
    "                        user_ratings[user_id]['low_ratings'] += 1"
   ]
  },
  {
   "cell_type": "markdown",
   "metadata": {},
   "source": [
    "### Save Top 10k Users"
   ]
  },
  {
   "cell_type": "code",
   "execution_count": 2,
   "metadata": {},
   "outputs": [
    {
     "data": {
      "image/png": "[encoded data removed]",
      "text/plain": [
       "<Figure size 640x480 with 1 Axes>"
      ]
     },
     "metadata": {},
     "output_type": "display_data"
    }
   ],
   "source": [
    "# Convert user ratings to a list and sort to find top 10,000 users\n",
    "user_ratings_list = [(user_id, data) for user_id, data in user_ratings.items()]\n",
    "user_ratings_list.sort(key=lambda x: x[1]['total_ratings'], reverse=True)\n",
    "top_10000_users = user_ratings_list[:10000]\n",
    "\n",
    "# Create a dictionary for the top 10,000 users\n",
    "top_netflix_users = {user_id: data for user_id, data in top_10000_users}\n",
    "\n",
    "# Save the top users to a JSON file\n",
    "with open(os.path.join(OUTPUT_PATH, 'top_netflix_users.json'), 'w') as f:\n",
    "    json.dump(top_netflix_users, f)\n",
    "\n",
    "# Convert the top users dictionary to a DataFrame for visualization\n",
    "df = pd.DataFrame.from_dict(top_netflix_users, orient='index')\n",
    "df.reset_index(inplace=True)\n",
    "df.rename(columns={'index': 'user_id'}, inplace=True)\n",
    "\n",
    "# Visualization: Distribution of Total Ratings among Top 10,000 Users\n",
    "sns.histplot(df['total_ratings'], bins=50)\n",
    "plt.title('Distribution of Total Ratings among Top 10,000 Users')\n",
    "plt.xlabel('Total Ratings')\n",
    "plt.ylabel('Number of Users')\n",
    "plt.show()\n"
   ]
  },
  {
   "cell_type": "markdown",
   "metadata": {},
   "source": [
    "## Compute User Preference Features"
   ]
  },
  {
   "cell_type": "markdown",
   "metadata": {},
   "source": [
    "### Load Data"
   ]
  },
  {
   "cell_type": "code",
   "execution_count": 3,
   "metadata": {},
   "outputs": [],
   "source": [
    "# Load feature mapping\n",
    "with open(os.path.join(DATA_PATH, f'processed/feature_mapping_{MIN_OCCURRENCES}.pickle'), 'rb') as f:\n",
    "    feature_mapping = pickle.load(f)\n",
    "\n",
    "# Load movie features\n",
    "with open(os.path.join(DATA_PATH, f'processed/movie_features_{MIN_OCCURRENCES}.pickle'), 'rb') as f:\n",
    "    movie_features = pickle.load(f)\n",
    "\n",
    "# Load top Netflix users\n",
    "with open(os.path.join(DATA_PATH, '/processed/top_netflix_users.json'), 'r') as f:\n",
    "    top_netflix_users = json.load(f)\n",
    "\n",
    "top_user_ids = set(top_netflix_users.keys())\n",
    "\n",
    "# Get all feature IDs\n",
    "all_feature_ids = set(feature_mapping['id_to_feature'].keys())"
   ]
  },
  {
   "cell_type": "markdown",
   "metadata": {},
   "source": [
    "### Compute User Ratings Accross Features"
   ]
  },
  {
   "cell_type": "code",
   "execution_count": 4,
   "metadata": {},
   "outputs": [],
   "source": [
    "# Initialize user profiles\n",
    "user_profiles = {}\n",
    "\n",
    "for user_id in top_user_ids:\n",
    "    user_profiles[user_id] = {\n",
    "        'feature_preferences': {},\n",
    "        'feature_counts': {},\n",
    "        'total_ratings': 0,\n",
    "        'high_ratings': 0,\n",
    "        'low_ratings': 0\n",
    "    }\n",
    "\n",
    "# Set of movie IDs that have features\n",
    "movie_ids_with_features = set(movie_features.keys())\n",
    "\n",
    "# Process ratings\n",
    "training_set_path = os.path.join(NETFLIX_FOLDER_PATH, 'training_set')\n",
    "files = os.listdir(training_set_path)\n",
    "\n",
    "for filename in files:\n",
    "    filepath = os.path.join(training_set_path, filename)\n",
    "    if filename.startswith('mv_') and filename.endswith('.txt'):\n",
    "        movie_id = filename[3:-4].lstrip('0')\n",
    "        if not movie_id:\n",
    "            movie_id = '0'\n",
    "        # Check if movie_id is in movie_features\n",
    "        if movie_id in movie_ids_with_features:\n",
    "            # Get the features for the movie\n",
    "            features = movie_features[movie_id]  # list of feature IDs\n",
    "            with open(filepath, 'r') as f:\n",
    "                lines = f.readlines()\n",
    "                for line in lines[1:]:  # Skip the first line containing the movie ID\n",
    "                    user_id, rating, date = line.strip().split(',')\n",
    "                    if user_id in top_user_ids:\n",
    "                        rating = int(rating)\n",
    "                        user_profile = user_profiles[user_id]\n",
    "                        user_profile['total_ratings'] += 1\n",
    "                        if rating >= 4:\n",
    "                            user_profile['high_ratings'] += 1\n",
    "                            rating_type = 'high'\n",
    "                        else:\n",
    "                            user_profile['low_ratings'] += 1\n",
    "                            rating_type = 'low'\n",
    "                        # For each feature, update counts\n",
    "                        for feature_id in features:\n",
    "                            feature_id = int(feature_id)\n",
    "                            if feature_id not in user_profile['feature_counts']:\n",
    "                                user_profile['feature_counts'][feature_id] = {'total': 0, 'high': 0}\n",
    "                            user_profile['feature_counts'][feature_id]['total'] += 1\n",
    "                            if rating_type == 'high':\n",
    "                                user_profile['feature_counts'][feature_id]['high'] += 1"
   ]
  },
  {
   "cell_type": "markdown",
   "metadata": {},
   "source": [
    "### Compute Preference Distributions"
   ]
  },
  {
   "cell_type": "code",
   "execution_count": 5,
   "metadata": {},
   "outputs": [],
   "source": [
    "# Calculate feature preference ratios\n",
    "for user_id, user_profile in user_profiles.items():\n",
    "    feature_preferences = {}\n",
    "    feature_counts = user_profile['feature_counts']\n",
    "    for feature_id in all_feature_ids:\n",
    "        if feature_id in feature_counts:\n",
    "            counts = feature_counts[feature_id]\n",
    "            total = counts['total']\n",
    "            high = counts['high']\n",
    "            preference_ratio = high / total\n",
    "        else:\n",
    "            preference_ratio = -1\n",
    "        feature_preferences[feature_id] = preference_ratio\n",
    "    user_profile['feature_preferences'] = feature_preferences\n",
    "    # Remove 'feature_counts' as it's no longer needed\n",
    "    del user_profile['feature_counts']\n",
    "\n",
    "# Save user profiles\n",
    "with open(os.path.join(OUTPUT_PATH, f'user_profiles_{MIN_OCCURRENCES}.pickle'), 'wb') as f:\n",
    "    pickle.dump(user_profiles, f)"
   ]
  },
  {
   "cell_type": "code",
   "execution_count": null,
   "metadata": {},
   "outputs": [],
   "source": []
  }
 ],
 "metadata": {
  "kernelspec": {
   "display_name": "venv",
   "language": "python",
   "name": "python3"
  },
  "language_info": {
   "codemirror_mode": {
    "name": "ipython",
    "version": 3
   },
   "file_extension": ".py",
   "mimetype": "text/x-python",
   "name": "python",
   "nbconvert_exporter": "python",
   "pygments_lexer": "ipython3",
   "version": "3.12.5"
  }
 },
 "nbformat": 4,
 "nbformat_minor": 2
}
